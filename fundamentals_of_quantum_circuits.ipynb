{
  "nbformat": 4,
  "nbformat_minor": 0,
  "metadata": {
    "colab": {
      "provenance": [],
      "authorship_tag": "ABX9TyOuoX2eGMfcn3wx6UqKxbqP",
      "include_colab_link": true
    },
    "kernelspec": {
      "name": "python3",
      "display_name": "Python 3"
    },
    "language_info": {
      "name": "python"
    }
  },
  "cells": [
    {
      "cell_type": "markdown",
      "metadata": {
        "id": "view-in-github",
        "colab_type": "text"
      },
      "source": [
        "<a href=\"https://colab.research.google.com/github/Zontafor/quantum-software/blob/main/fundamentals_of_quantum_circuits.ipynb\" target=\"_parent\"><img src=\"https://colab.research.google.com/assets/colab-badge.svg\" alt=\"Open In Colab\"/></a>"
      ]
    },
    {
      "cell_type": "markdown",
      "source": [
        "This code illustrates the creation and manipulation of quantum circuits using various quantum gates, analyzing the resulting state vectors, and measuring the probabilities of different quantum states. The first example demonstrates constructing a circuit with 5 qubits, manipulating them, and removing measurement gates to analyze the quantum state. The second example constructs a simpler circuit with 3 qubits and measures the outcomes, while the Monte Carlo sampling part shows how to run the circuit multiple times and collect statistics."
      ],
      "metadata": {
        "id": "XXXWEUP-pvkM"
      }
    },
    {
      "cell_type": "code",
      "execution_count": null,
      "metadata": {
        "id": "nRfLQO5BpD7W"
      },
      "outputs": [],
      "source": [
        "# installing qiskit\n",
        "!pip install qiskit\n",
        "\n",
        "import qiskit.quantum_info as qi\n",
        "from qiskit.circuit.library import HGate, MCXGate, YGate, XGate, SwapGate\n",
        "from qiskit import QuantumRegister, ClassicalRegister, QuantumCircuit\n",
        "from qiskit.circuit.library import XGate, MCXGate\n",
        "from qiskit.quantum_info import Statevector  # Import the Statevector class"
      ]
    },
    {
      "cell_type": "code",
      "source": [
        "# for the list of all possible gates see https://docs.quantum.ibm.com/api/qiskit/circuit_library\n",
        "q = QuantumRegister(5,'q')\n",
        "c = ClassicalRegister(2,'c')\n",
        "\n",
        "qc = QuantumCircuit(q,c)\n",
        "qc.append(XGate(), [0]) # Applies an X gate (NOT gate) to qubit 0, flipping its state\n",
        "qc.append(MCXGate(1), [0,3]) # Applies a controlled-X (CNOT) gate where qubit 0 controls qubit 3\n",
        "qc.append(MCXGate(1), [1,3]) # Another CNOT gate with qubit 1 controlling qubit 3\n",
        "qc.append(MCXGate(1), [2,3]) # Another CNOT gate with qubit 2 controlling qubit 3\n",
        "qc.append(MCXGate(2), [0,1,4]) # A controlled-controlled-X (Toffoli) gate with qubits 0 and 1 controlling qubit 4\n",
        "qc.append(MCXGate(2), [0,2,4]) # Another Toffoli gate with qubits 0 and 2 controlling qubit 4\n",
        "qc.measure(3,0) # Measures qubit 3 and stores the result in classical bit 0\n",
        "qc.append(MCXGate(2), [1,2,4]) # Another Toffoli gate with qubits 1 and 2 controlling qubit 4\n",
        "qc.measure(4,1) # Measures qubit 4 and stores the result in classical bit 1\n",
        "qc.draw()"
      ],
      "metadata": {
        "id": "VkAiN218pFW8"
      },
      "execution_count": null,
      "outputs": []
    },
    {
      "cell_type": "code",
      "source": [
        "# removes the measurement gates from the circuit to analyze the pure quantum state without collapsing it\n",
        "qc.data = [gate for gate in qc.data if not gate[0].name == 'measure']\n",
        "\n",
        "# converts the quantum circuit into a state vector and prints it in bra-ket notation\n",
        "state = Statevector.from_instruction(qc)\n",
        "\n",
        "# print the state vector in bra-ket notation\n",
        "print(state.draw())"
      ],
      "metadata": {
        "id": "hR9M28n7pGXX"
      },
      "execution_count": null,
      "outputs": []
    },
    {
      "cell_type": "code",
      "source": [
        "# probability of measuring each state in the standard/computational basis\n",
        "state.probabilities_dict()"
      ],
      "metadata": {
        "id": "-ymVuLZMpHgc"
      },
      "execution_count": null,
      "outputs": []
    },
    {
      "cell_type": "code",
      "source": [
        "# circuit with quantum and classical registers\n",
        "\n",
        "from qiskit import QuantumCircuit\n",
        "import qiskit.quantum_info as qi\n",
        "from qiskit.circuit.library import HGate, MCXGate, YGate, XGate, SwapGate\n",
        "from qiskit import QuantumRegister\n",
        "from qiskit import ClassicalRegister\n",
        "\n",
        "# for the list of all possible gates see https://docs.quantum.ibm.com/api/qiskit/circuit_library\n",
        "q = QuantumRegister(3,'q')\n",
        "c = ClassicalRegister(1,'c')\n",
        "\n",
        "qc = QuantumCircuit(q,c)\n",
        "qc.append(HGate(), [0]) # Applies a Hadamard gate to qubit 0, creating superposition\n",
        "qc.append(YGate(), [1]) # Applies a Y gate to qubit 1, creating a complex phase flip\n",
        "qc.append(XGate(),[2]) # Applies an X gate to qubit 2, flipping its state\n",
        "qc.append(MCXGate(2), [0,2,1]) # Applies a Toffoli gate with qubits 0 and 2 controlling qubit 1\n",
        "qc.append(HGate(), [2]) # Applies a Hadamard gate to qubit 2\n",
        "qc.append(SwapGate(),[0,1]) # Swaps the states of qubits 0 and 1\n",
        "qc.measure(1,0) # Measures qubit 1 and stores the result in classical bit 0\n",
        "qc.draw()"
      ],
      "metadata": {
        "id": "1bwmbqoTpIi2"
      },
      "execution_count": null,
      "outputs": []
    },
    {
      "cell_type": "code",
      "source": [
        "# monte carlo sampling bc classical reg\n",
        "# this class runs the quantum circuit multiple times (1024 shots) to collect a distribution of measurement outcomes\n",
        "from qiskit.primitives import Sampler\n",
        "\n",
        "result = Sampler().run(qc,shots=1024).result()\n",
        "print(result.quasi_dists) # prints the quasi-probability distribution of the measurement outcomes, which includes negative probabilities that can occur due to noise and other quantum effects"
      ],
      "metadata": {
        "id": "Bj3tW49tpKUI"
      },
      "execution_count": null,
      "outputs": []
    }
  ]
}