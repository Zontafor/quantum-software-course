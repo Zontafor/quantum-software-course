{
  "nbformat": 4,
  "nbformat_minor": 0,
  "metadata": {
    "colab": {
      "provenance": [],
      "authorship_tag": "ABX9TyPeepSILT+P95AGK61NzBd0",
      "include_colab_link": true
    },
    "kernelspec": {
      "name": "python3",
      "display_name": "Python 3"
    },
    "language_info": {
      "name": "python"
    }
  },
  "cells": [
    {
      "cell_type": "markdown",
      "metadata": {
        "id": "view-in-github",
        "colab_type": "text"
      },
      "source": [
        "<a href=\"https://colab.research.google.com/github/Zontafor/quantum-software/blob/main/L09.ipynb\" target=\"_parent\"><img src=\"https://colab.research.google.com/assets/colab-badge.svg\" alt=\"Open In Colab\"/></a>"
      ]
    },
    {
      "cell_type": "code",
      "execution_count": null,
      "metadata": {
        "id": "gg3VpwRA0chk"
      },
      "outputs": [],
      "source": [
        "# Quantum Software Development\n",
        "# Lab 9: Shor's Factorization Algorithm\n",
        "# Copyright 2024 The MITRE Corporation. All Rights Reserved.\n",
        "\n",
        "# Note: Use little endian ordering when storing and retrieving integers from\n",
        "# qubit registers in this lab."
      ]
    },
    {
      "cell_type": "code",
      "source": [
        "!pip install qiskit\n",
        "!pip install qiskit-aer\n",
        "!pip install pylatexenc\n",
        "\n",
        "from qiskit import QuantumCircuit, QuantumRegister, ClassicalRegister, transpile, assemble\n",
        "from qiskit_aer import AerSimulator\n",
        "from qiskit.circuit.library import MCXGate, UnitaryGate\n",
        "from qiskit.visualization import plot_histogram\n",
        "from math import ceil, log2, pow\n",
        "import numpy as np"
      ],
      "metadata": {
        "id": "dZaDWfWCE6TY",
        "colab": {
          "base_uri": "https://localhost:8080/"
        },
        "outputId": "8a312307-f8c2-4bf3-a77c-c7ea237aeac6"
      },
      "execution_count": 11,
      "outputs": [
        {
          "output_type": "stream",
          "name": "stdout",
          "text": [
            "Requirement already satisfied: qiskit in /usr/local/lib/python3.10/dist-packages (1.1.1)\n",
            "Requirement already satisfied: rustworkx>=0.14.0 in /usr/local/lib/python3.10/dist-packages (from qiskit) (0.15.1)\n",
            "Requirement already satisfied: numpy<3,>=1.17 in /usr/local/lib/python3.10/dist-packages (from qiskit) (1.25.2)\n",
            "Requirement already satisfied: scipy>=1.5 in /usr/local/lib/python3.10/dist-packages (from qiskit) (1.11.4)\n",
            "Requirement already satisfied: sympy>=1.3 in /usr/local/lib/python3.10/dist-packages (from qiskit) (1.13.0)\n",
            "Requirement already satisfied: dill>=0.3 in /usr/local/lib/python3.10/dist-packages (from qiskit) (0.3.8)\n",
            "Requirement already satisfied: python-dateutil>=2.8.0 in /usr/local/lib/python3.10/dist-packages (from qiskit) (2.8.2)\n",
            "Requirement already satisfied: stevedore>=3.0.0 in /usr/local/lib/python3.10/dist-packages (from qiskit) (5.2.0)\n",
            "Requirement already satisfied: typing-extensions in /usr/local/lib/python3.10/dist-packages (from qiskit) (4.12.2)\n",
            "Requirement already satisfied: symengine>=0.11 in /usr/local/lib/python3.10/dist-packages (from qiskit) (0.11.0)\n",
            "Requirement already satisfied: six>=1.5 in /usr/local/lib/python3.10/dist-packages (from python-dateutil>=2.8.0->qiskit) (1.16.0)\n",
            "Requirement already satisfied: pbr!=2.1.0,>=2.0.0 in /usr/local/lib/python3.10/dist-packages (from stevedore>=3.0.0->qiskit) (6.0.0)\n",
            "Requirement already satisfied: mpmath<1.4,>=1.1.0 in /usr/local/lib/python3.10/dist-packages (from sympy>=1.3->qiskit) (1.3.0)\n",
            "Requirement already satisfied: qiskit-aer in /usr/local/lib/python3.10/dist-packages (0.14.2)\n",
            "Requirement already satisfied: qiskit>=0.45.2 in /usr/local/lib/python3.10/dist-packages (from qiskit-aer) (1.1.1)\n",
            "Requirement already satisfied: numpy>=1.16.3 in /usr/local/lib/python3.10/dist-packages (from qiskit-aer) (1.25.2)\n",
            "Requirement already satisfied: scipy>=1.0 in /usr/local/lib/python3.10/dist-packages (from qiskit-aer) (1.11.4)\n",
            "Requirement already satisfied: psutil>=5 in /usr/local/lib/python3.10/dist-packages (from qiskit-aer) (5.9.5)\n",
            "Requirement already satisfied: rustworkx>=0.14.0 in /usr/local/lib/python3.10/dist-packages (from qiskit>=0.45.2->qiskit-aer) (0.15.1)\n",
            "Requirement already satisfied: sympy>=1.3 in /usr/local/lib/python3.10/dist-packages (from qiskit>=0.45.2->qiskit-aer) (1.13.0)\n",
            "Requirement already satisfied: dill>=0.3 in /usr/local/lib/python3.10/dist-packages (from qiskit>=0.45.2->qiskit-aer) (0.3.8)\n",
            "Requirement already satisfied: python-dateutil>=2.8.0 in /usr/local/lib/python3.10/dist-packages (from qiskit>=0.45.2->qiskit-aer) (2.8.2)\n",
            "Requirement already satisfied: stevedore>=3.0.0 in /usr/local/lib/python3.10/dist-packages (from qiskit>=0.45.2->qiskit-aer) (5.2.0)\n",
            "Requirement already satisfied: typing-extensions in /usr/local/lib/python3.10/dist-packages (from qiskit>=0.45.2->qiskit-aer) (4.12.2)\n",
            "Requirement already satisfied: symengine>=0.11 in /usr/local/lib/python3.10/dist-packages (from qiskit>=0.45.2->qiskit-aer) (0.11.0)\n",
            "Requirement already satisfied: six>=1.5 in /usr/local/lib/python3.10/dist-packages (from python-dateutil>=2.8.0->qiskit>=0.45.2->qiskit-aer) (1.16.0)\n",
            "Requirement already satisfied: pbr!=2.1.0,>=2.0.0 in /usr/local/lib/python3.10/dist-packages (from stevedore>=3.0.0->qiskit>=0.45.2->qiskit-aer) (6.0.0)\n",
            "Requirement already satisfied: mpmath<1.4,>=1.1.0 in /usr/local/lib/python3.10/dist-packages (from sympy>=1.3->qiskit>=0.45.2->qiskit-aer) (1.3.0)\n",
            "Requirement already satisfied: pylatexenc in /usr/local/lib/python3.10/dist-packages (2.10)\n"
          ]
        }
      ]
    },
    {
      "cell_type": "code",
      "source": [
        "# E01\n",
        "\n",
        "def modular_multiply_by_constant(circ, modulus, c, y):\n",
        "    n = len(y)\n",
        "    qs = QuantumRegister(n)\n",
        "    circ.add_register(qs)\n",
        "\n",
        "    # Shift and multiply by constant\n",
        "    for idx in range(n):\n",
        "        shifted_c = (c << idx) % modulus\n",
        "        if shifted_c != 0:\n",
        "            circ.mcx([y[idx]], qs[idx])\n",
        "\n",
        "    # Swap to target register\n",
        "    for idx in range(n):\n",
        "        circ.swap(y[idx], qs[idx])\n",
        "\n",
        "    # Inverse shift and multiply by inverse constant\n",
        "    inv_c = pow(c, -1, modulus)\n",
        "    for idx in range(n):\n",
        "        shifted_c = (inv_c << idx) % modulus\n",
        "        if shifted_c != 0:\n",
        "            circ.mcx([y[idx]], qs[(idx + shifted_c) % n])\n",
        "\n",
        "# Quantum modular exponentiation\n",
        "def exp_mod(circ, a, b, input_qubits, output_qubits):\n",
        "    # Placeholder for measurement and classical exponentiation\n",
        "    classical_bits = ClassicalRegister(len(input_qubits), 'm')\n",
        "    circ.add_register(classical_bits)\n",
        "\n",
        "    circ.measure(input_qubits, classical_bits)\n",
        "\n",
        "    # Function to convert classical bit string to integer\n",
        "    def classical_exp_mod(a, bits, b):\n",
        "        bitstring = ''.join(map(str, bits[::-1]))\n",
        "        exponent = int(bitstring, 2)\n",
        "        return pow(a, exponent, b)\n",
        "\n",
        "    # Create a classical computation placeholder\n",
        "    circ.append(UnitaryGate(np.eye(2**len(output_qubits))), output_qubits)  # Identity operation as a placeholder\n",
        "\n",
        "    return classical_exp_mod\n",
        "\n",
        "# Example usage in a circuit\n",
        "number_to_factor = 15\n",
        "guess = 7\n",
        "input_size = ceil(log2(number_to_factor + 1))\n",
        "output_size = input_size * 2\n",
        "\n",
        "input_qubits = QuantumRegister(input_size, 'input')\n",
        "output_qubits = QuantumRegister(output_size, 'output')\n",
        "classical_bits = ClassicalRegister(input_size + output_size, 'c')\n",
        "\n",
        "qc = QuantumCircuit(input_qubits, output_qubits, classical_bits)\n",
        "\n",
        "# Apply Hadamard gates to input qubits\n",
        "qc.h(input_qubits)\n",
        "\n",
        "# Perform modular exponentiation\n",
        "exp_mod(qc, guess, number_to_factor, input_qubits, output_qubits)\n",
        "\n",
        "# Measure the qubits\n",
        "qc.measure(input_qubits, classical_bits[:input_size])\n",
        "qc.measure(output_qubits, classical_bits[input_size:])\n",
        "\n",
        "# Simulate the circuit\n",
        "sim = AerSimulator()\n",
        "t_qc = transpile(qc, sim)\n",
        "qobj = assemble(t_qc)\n",
        "result = sim.run(qobj).result()\n",
        "counts = result.get_counts(qc)\n",
        "\n",
        "counts = result.get_counts()\n",
        "print(counts)"
      ],
      "metadata": {
        "id": "J4ziDo-PEsB0",
        "colab": {
          "base_uri": "https://localhost:8080/"
        },
        "outputId": "b54def57-e032-4635-a53f-33d146e15f54"
      },
      "execution_count": 18,
      "outputs": [
        {
          "output_type": "stream",
          "name": "stdout",
          "text": [
            "{'0110 000000000110': 68, '0001 000000000001': 65, '0101 000000000101': 64, '1100 000000001100': 67, '1011 000000001011': 53, '1000 000000001000': 66, '1101 000000001101': 60, '1110 000000001110': 66, '0000 000000000000': 67, '1111 000000001111': 62, '0011 000000000011': 66, '0100 000000000100': 60, '0010 000000000010': 75, '1001 000000001001': 64, '0111 000000000111': 58, '1010 000000001010': 63}\n"
          ]
        },
        {
          "output_type": "stream",
          "name": "stderr",
          "text": [
            "<ipython-input-18-2097764a1855>:70: DeprecationWarning: Using a qobj for run() is deprecated as of qiskit-aer 0.14 and will be removed no sooner than 3 months from that release date. Transpiled circuits should now be passed directly using `backend.run(circuits, **run_options).\n",
            "  result = sim.run(qobj).result()\n"
          ]
        }
      ]
    },
    {
      "cell_type": "code",
      "source": [
        "# E02\n",
        "\n",
        "def find_approx_period(number_to_factor, guess, n):\n",
        "    input_qubits = QuantumRegister(n, 'input')\n",
        "    output_qubits = QuantumRegister(n, 'output')\n",
        "    classical_bits = ClassicalRegister(n, 'classical')\n",
        "    qc = QuantumCircuit(input_qubits, output_qubits, classical_bits)\n",
        "\n",
        "    # Apply the exp_mod circuit\n",
        "    exp_mod(qc, guess, number_to_factor, input_qubits, output_qubits)\n",
        "\n",
        "    # Measure the qubits\n",
        "    qc.measure(output_qubits, classical_bits)\n",
        "\n",
        "    return qc\n",
        "\n",
        "    # Simulate the circuit\n",
        "    sim = AerSimulator()\n",
        "    t_qc = transpile(qc, sim)\n",
        "    qobj = assemble(t_qc)\n",
        "    result = sim.run(qobj).result()\n",
        "    counts = result.get_counts(qc)\n",
        "\n",
        "    # Execute the circuit\n",
        "    # backend = Aer.get_backend('qasm_simulator')\n",
        "    # tqc = transpile(qc, backend)\n",
        "    # qobj = assemble(tqc)\n",
        "    result = execute(qc, backend).result()\n",
        "\n",
        "    #counts = result.get_counts()\n",
        "    print(counts)"
      ],
      "metadata": {
        "id": "gnThCqFJFJnJ"
      },
      "execution_count": null,
      "outputs": []
    },
    {
      "cell_type": "code",
      "source": [
        "# E02\n",
        "\n",
        "def inverse_qft(qc, qubits):\n",
        "    qc.append(QFT(len(qubits), inverse=True).to_instruction(), qubits)\n",
        "\n",
        "def find_approx_period(number_to_factor, guess, n):\n",
        "    input_qubits = QuantumRegister(n, 'input')\n",
        "    output_qubits = QuantumRegister(n, 'output')\n",
        "    classical_bits = ClassicalRegister(n, 'classical')\n",
        "    qc = QuantumCircuit(input_qubits, output_qubits, classical_bits)\n",
        "\n",
        "    # Apply Hadamard gates to input qubits\n",
        "    qc.h(input_qubits)\n",
        "\n",
        "    # Apply the exp_mod circuit (modular exponentiation)\n",
        "    exp_mod(qc, guess, number_to_factor, input_qubits, output_qubits)\n",
        "\n",
        "    # Apply the inverse QFT to input qubits\n",
        "    inverse_qft(qc, input_qubits)\n",
        "\n",
        "    # Measure the input qubits\n",
        "    qc.measure(input_qubits, classical_bits)\n",
        "\n",
        "    return qc\n",
        "\n",
        "    # Simulate the circuit\n",
        "    sim = AerSimulator()\n",
        "    t_qc = transpile(qc, sim)\n",
        "    qobj = assemble(t_qc)\n",
        "    result = sim.run(qobj).result()\n",
        "    counts = result.get_counts(qc)\n",
        "\n",
        "    # Execute the circuit\n",
        "    # backend = Aer.get_backend('qasm_simulator')\n",
        "    # tqc = transpile(qc, backend)\n",
        "    # qobj = assemble(tqc)\n",
        "    result = execute(qc, backend).result()\n",
        "\n",
        "    #counts = result.get_counts()\n",
        "    print(counts)"
      ],
      "metadata": {
        "id": "bGTH6V6z-xLj"
      },
      "execution_count": null,
      "outputs": []
    },
    {
      "cell_type": "code",
      "source": [
        "# E03\n",
        "\n",
        "from sympy import Rational\n",
        "\n",
        "def find_period_candidate(numerator, denominator, denominator_threshold):\n",
        "    fraction = Rational(numerator, denominator)\n",
        "    continued_fraction = fraction.continued_fraction()\n",
        "    convergents = continued_fraction.convergents()\n",
        "\n",
        "    for convergent in convergents:\n",
        "        if convergent.q < denominator_threshold:\n",
        "            candidate = convergent\n",
        "        else:\n",
        "            break\n",
        "    return (candidate.p, candidate.q)"
      ],
      "metadata": {
        "id": "Yjn4u2IuFNTq"
      },
      "execution_count": null,
      "outputs": []
    },
    {
      "cell_type": "code",
      "source": [
        "# E04\n",
        "\n",
        "def find_period(number_to_factor, guess, n):\n",
        "    input_qubits = QuantumRegister(n, 'input')\n",
        "    output_qubits = QuantumRegister(n, 'output')\n",
        "    classical_bits = ClassicalRegister(n, 'classical')\n",
        "    qc = QuantumCircuit(input_qubits, output_qubits, classical_bits)\n",
        "\n",
        "    # Apply the exp_mod circuit\n",
        "    exp_mod(qc, guess, number_to_factor, input_qubits, output_qubits)\n",
        "\n",
        "    # Measure the qubits\n",
        "    qc.measure(output_qubits, classical_bits)\n",
        "\n",
        "    return qc\n",
        "\n",
        "    # Simulate the circuit\n",
        "    sim = AerSimulator()\n",
        "    t_qc = transpile(qc, sim)\n",
        "    qobj = assemble(t_qc)\n",
        "    result = sim.run(qobj).result()\n",
        "    counts = result.get_counts(qc)\n",
        "\n",
        "    # Execute the circuit\n",
        "    # backend = Aer.get_backend('qasm_simulator')\n",
        "    # tqc = transpile(qc, backend)\n",
        "    # qobj = assemble(tqc)\n",
        "    result = execute(qc, backend).result()\n",
        "\n",
        "    #counts = result.get_counts()\n",
        "    print(counts)"
      ],
      "metadata": {
        "id": "kPdGXIi7FRKQ"
      },
      "execution_count": null,
      "outputs": []
    }
  ]
}