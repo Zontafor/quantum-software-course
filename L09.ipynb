{
  "nbformat": 4,
  "nbformat_minor": 0,
  "metadata": {
    "colab": {
      "provenance": [],
      "authorship_tag": "ABX9TyMAyvhf05hhUyRS+PjTgDZv",
      "include_colab_link": true
    },
    "kernelspec": {
      "name": "python3",
      "display_name": "Python 3"
    },
    "language_info": {
      "name": "python"
    }
  },
  "cells": [
    {
      "cell_type": "markdown",
      "metadata": {
        "id": "view-in-github",
        "colab_type": "text"
      },
      "source": [
        "<a href=\"https://colab.research.google.com/github/Zontafor/quantum-software/blob/main/L09.ipynb\" target=\"_parent\"><img src=\"https://colab.research.google.com/assets/colab-badge.svg\" alt=\"Open In Colab\"/></a>"
      ]
    },
    {
      "cell_type": "code",
      "execution_count": null,
      "metadata": {
        "id": "gg3VpwRA0chk"
      },
      "outputs": [],
      "source": [
        "# Quantum Software Development\n",
        "# Lab 9: Shor's Factorization Algorithm\n",
        "# Copyright 2024 The MITRE Corporation. All Rights Reserved.\n",
        "\n",
        "# Note: Use little endian ordering when storing and retrieving integers from\n",
        "# qubit registers in this lab."
      ]
    },
    {
      "cell_type": "code",
      "source": [
        "!pip install qiskit\n",
        "!pip install qiskit-aer\n",
        "!pip install pylatexenc\n",
        "\n",
        "from qiskit import QuantumCircuit, QuantumRegister, ClassicalRegister, transpile, assemble\n",
        "from qiskit_aer import AerSimulator\n",
        "from qiskit.visualization import plot_histogram"
      ],
      "metadata": {
        "colab": {
          "base_uri": "https://localhost:8080/"
        },
        "id": "dZaDWfWCE6TY",
        "outputId": "91d370f7-e80d-4515-e48c-99156d8b2b89"
      },
      "execution_count": 1,
      "outputs": [
        {
          "output_type": "stream",
          "name": "stdout",
          "text": [
            "Collecting qiskit\n",
            "  Downloading qiskit-1.1.1-cp38-abi3-manylinux_2_17_x86_64.manylinux2014_x86_64.whl (4.3 MB)\n",
            "\u001b[2K     \u001b[90m━━━━━━━━━━━━━━━━━━━━━━━━━━━━━━━━━━━━━━━━\u001b[0m \u001b[32m4.3/4.3 MB\u001b[0m \u001b[31m13.3 MB/s\u001b[0m eta \u001b[36m0:00:00\u001b[0m\n",
            "\u001b[?25hCollecting rustworkx>=0.14.0 (from qiskit)\n",
            "  Downloading rustworkx-0.15.1-cp38-abi3-manylinux_2_17_x86_64.manylinux2014_x86_64.whl (2.0 MB)\n",
            "\u001b[2K     \u001b[90m━━━━━━━━━━━━━━━━━━━━━━━━━━━━━━━━━━━━━━━━\u001b[0m \u001b[32m2.0/2.0 MB\u001b[0m \u001b[31m25.5 MB/s\u001b[0m eta \u001b[36m0:00:00\u001b[0m\n",
            "\u001b[?25hRequirement already satisfied: numpy<3,>=1.17 in /usr/local/lib/python3.10/dist-packages (from qiskit) (1.25.2)\n",
            "Requirement already satisfied: scipy>=1.5 in /usr/local/lib/python3.10/dist-packages (from qiskit) (1.11.4)\n",
            "Requirement already satisfied: sympy>=1.3 in /usr/local/lib/python3.10/dist-packages (from qiskit) (1.13.0)\n",
            "Collecting dill>=0.3 (from qiskit)\n",
            "  Downloading dill-0.3.8-py3-none-any.whl (116 kB)\n",
            "\u001b[2K     \u001b[90m━━━━━━━━━━━━━━━━━━━━━━━━━━━━━━━━━━━━━━━━\u001b[0m \u001b[32m116.3/116.3 kB\u001b[0m \u001b[31m6.7 MB/s\u001b[0m eta \u001b[36m0:00:00\u001b[0m\n",
            "\u001b[?25hRequirement already satisfied: python-dateutil>=2.8.0 in /usr/local/lib/python3.10/dist-packages (from qiskit) (2.8.2)\n",
            "Collecting stevedore>=3.0.0 (from qiskit)\n",
            "  Downloading stevedore-5.2.0-py3-none-any.whl (49 kB)\n",
            "\u001b[2K     \u001b[90m━━━━━━━━━━━━━━━━━━━━━━━━━━━━━━━━━━━━━━━━\u001b[0m \u001b[32m49.7/49.7 kB\u001b[0m \u001b[31m2.7 MB/s\u001b[0m eta \u001b[36m0:00:00\u001b[0m\n",
            "\u001b[?25hRequirement already satisfied: typing-extensions in /usr/local/lib/python3.10/dist-packages (from qiskit) (4.12.2)\n",
            "Collecting symengine>=0.11 (from qiskit)\n",
            "  Downloading symengine-0.11.0-cp310-cp310-manylinux_2_12_x86_64.manylinux2010_x86_64.whl (39.4 MB)\n",
            "\u001b[2K     \u001b[90m━━━━━━━━━━━━━━━━━━━━━━━━━━━━━━━━━━━━━━━━\u001b[0m \u001b[32m39.4/39.4 MB\u001b[0m \u001b[31m13.3 MB/s\u001b[0m eta \u001b[36m0:00:00\u001b[0m\n",
            "\u001b[?25hRequirement already satisfied: six>=1.5 in /usr/local/lib/python3.10/dist-packages (from python-dateutil>=2.8.0->qiskit) (1.16.0)\n",
            "Collecting pbr!=2.1.0,>=2.0.0 (from stevedore>=3.0.0->qiskit)\n",
            "  Downloading pbr-6.0.0-py2.py3-none-any.whl (107 kB)\n",
            "\u001b[2K     \u001b[90m━━━━━━━━━━━━━━━━━━━━━━━━━━━━━━━━━━━━━━━━\u001b[0m \u001b[32m107.5/107.5 kB\u001b[0m \u001b[31m5.6 MB/s\u001b[0m eta \u001b[36m0:00:00\u001b[0m\n",
            "\u001b[?25hRequirement already satisfied: mpmath<1.4,>=1.1.0 in /usr/local/lib/python3.10/dist-packages (from sympy>=1.3->qiskit) (1.3.0)\n",
            "Installing collected packages: symengine, rustworkx, pbr, dill, stevedore, qiskit\n",
            "Successfully installed dill-0.3.8 pbr-6.0.0 qiskit-1.1.1 rustworkx-0.15.1 stevedore-5.2.0 symengine-0.11.0\n",
            "Collecting qiskit-aer\n",
            "  Downloading qiskit_aer-0.14.2-cp310-cp310-manylinux_2_17_x86_64.manylinux2014_x86_64.whl (12.4 MB)\n",
            "\u001b[2K     \u001b[90m━━━━━━━━━━━━━━━━━━━━━━━━━━━━━━━━━━━━━━━━\u001b[0m \u001b[32m12.4/12.4 MB\u001b[0m \u001b[31m29.9 MB/s\u001b[0m eta \u001b[36m0:00:00\u001b[0m\n",
            "\u001b[?25hRequirement already satisfied: qiskit>=0.45.2 in /usr/local/lib/python3.10/dist-packages (from qiskit-aer) (1.1.1)\n",
            "Requirement already satisfied: numpy>=1.16.3 in /usr/local/lib/python3.10/dist-packages (from qiskit-aer) (1.25.2)\n",
            "Requirement already satisfied: scipy>=1.0 in /usr/local/lib/python3.10/dist-packages (from qiskit-aer) (1.11.4)\n",
            "Requirement already satisfied: psutil>=5 in /usr/local/lib/python3.10/dist-packages (from qiskit-aer) (5.9.5)\n",
            "Requirement already satisfied: rustworkx>=0.14.0 in /usr/local/lib/python3.10/dist-packages (from qiskit>=0.45.2->qiskit-aer) (0.15.1)\n",
            "Requirement already satisfied: sympy>=1.3 in /usr/local/lib/python3.10/dist-packages (from qiskit>=0.45.2->qiskit-aer) (1.13.0)\n",
            "Requirement already satisfied: dill>=0.3 in /usr/local/lib/python3.10/dist-packages (from qiskit>=0.45.2->qiskit-aer) (0.3.8)\n",
            "Requirement already satisfied: python-dateutil>=2.8.0 in /usr/local/lib/python3.10/dist-packages (from qiskit>=0.45.2->qiskit-aer) (2.8.2)\n",
            "Requirement already satisfied: stevedore>=3.0.0 in /usr/local/lib/python3.10/dist-packages (from qiskit>=0.45.2->qiskit-aer) (5.2.0)\n",
            "Requirement already satisfied: typing-extensions in /usr/local/lib/python3.10/dist-packages (from qiskit>=0.45.2->qiskit-aer) (4.12.2)\n",
            "Requirement already satisfied: symengine>=0.11 in /usr/local/lib/python3.10/dist-packages (from qiskit>=0.45.2->qiskit-aer) (0.11.0)\n",
            "Requirement already satisfied: six>=1.5 in /usr/local/lib/python3.10/dist-packages (from python-dateutil>=2.8.0->qiskit>=0.45.2->qiskit-aer) (1.16.0)\n",
            "Requirement already satisfied: pbr!=2.1.0,>=2.0.0 in /usr/local/lib/python3.10/dist-packages (from stevedore>=3.0.0->qiskit>=0.45.2->qiskit-aer) (6.0.0)\n",
            "Requirement already satisfied: mpmath<1.4,>=1.1.0 in /usr/local/lib/python3.10/dist-packages (from sympy>=1.3->qiskit>=0.45.2->qiskit-aer) (1.3.0)\n",
            "Installing collected packages: qiskit-aer\n",
            "Successfully installed qiskit-aer-0.14.2\n",
            "Collecting pylatexenc\n",
            "  Downloading pylatexenc-2.10.tar.gz (162 kB)\n",
            "\u001b[2K     \u001b[90m━━━━━━━━━━━━━━━━━━━━━━━━━━━━━━━━━━━━━━━━\u001b[0m \u001b[32m162.6/162.6 kB\u001b[0m \u001b[31m1.4 MB/s\u001b[0m eta \u001b[36m0:00:00\u001b[0m\n",
            "\u001b[?25h  Preparing metadata (setup.py) ... \u001b[?25l\u001b[?25hdone\n",
            "Building wheels for collected packages: pylatexenc\n",
            "  Building wheel for pylatexenc (setup.py) ... \u001b[?25l\u001b[?25hdone\n",
            "  Created wheel for pylatexenc: filename=pylatexenc-2.10-py3-none-any.whl size=136816 sha256=01605dc6c6a527b135228653ba1b27517822f40958fad5688f10ca2fdbcbfa82\n",
            "  Stored in directory: /root/.cache/pip/wheels/d3/31/8b/e09b0386afd80cfc556c00408c9aeea5c35c4d484a9c762fd5\n",
            "Successfully built pylatexenc\n",
            "Installing collected packages: pylatexenc\n",
            "Successfully installed pylatexenc-2.10\n"
          ]
        }
      ]
    },
    {
      "cell_type": "code",
      "source": [
        "# E01\n",
        "\n",
        "def modular_multiply_by_constant(circ, modulus, c, y):\n",
        "    n = len(y)\n",
        "    qs = QuantumRegister(n)\n",
        "    circ.add_register(qs)\n",
        "\n",
        "    for idx in range(n):\n",
        "        shifted_c = (c << idx) % modulus\n",
        "        if shifted_c != 0:\n",
        "            circ.mcx([y[idx]], qs[idx])\n",
        "\n",
        "    for idx in range(n):\n",
        "        circ.swap(y[idx], qs[idx])\n",
        "\n",
        "    inv_c = pow(c, -1, modulus)\n",
        "    for idx in range(n):\n",
        "        shifted_c = (inv_c << idx) % modulus\n",
        "        if shifted_c != 0:\n",
        "            circ.mcx([y[idx]], qs[(idx + shifted_c) % n])\n",
        "\n",
        "# quantum modular exponentiation\n",
        "\n",
        "def exp_mod(a, b, input_qubits, output_qubits):\n",
        "    qc = QuantumCircuit(input_qubits, output_qubits)\n",
        "    classical_exp_mod = pow(a, int(''.join(str(x) for x in input_qubits)), b)\n",
        "    modular_multiply_by_constant(qc, b, classical_exp_mod, output_qubits)\n",
        "    return qc"
      ],
      "metadata": {
        "id": "J4ziDo-PEsB0"
      },
      "execution_count": 3,
      "outputs": []
    },
    {
      "cell_type": "code",
      "source": [
        "# E02\n",
        "\n",
        "def find_approx_period(number_to_factor, guess, n):\n",
        "    input_qubits = QuantumRegister(n, 'input')\n",
        "    output_qubits = QuantumRegister(n, 'output')\n",
        "    classical_bits = ClassicalRegister(n, 'classical')\n",
        "    qc = QuantumCircuit(input_qubits, output_qubits, classical_bits)\n",
        "\n",
        "    # Apply the exp_mod circuit\n",
        "    exp_mod(qc, guess, number_to_factor, input_qubits, output_qubits)\n",
        "\n",
        "    # Measure the qubits\n",
        "    qc.measure(output_qubits, classical_bits)\n",
        "\n",
        "    return qc\n",
        "\n",
        "    # Simulate the circuit\n",
        "    sim = AerSimulator()\n",
        "    t_qc = transpile(qc, sim)\n",
        "    qobj = assemble(t_qc)\n",
        "    result = sim.run(qobj).result()\n",
        "    counts = result.get_counts(qc)\n",
        "\n",
        "    # Execute the circuit\n",
        "    # backend = Aer.get_backend('qasm_simulator')\n",
        "    # tqc = transpile(qc, backend)\n",
        "    # qobj = assemble(tqc)\n",
        "    result = execute(qc, backend).result()\n",
        "\n",
        "    #counts = result.get_counts()\n",
        "    print(counts)"
      ],
      "metadata": {
        "id": "gnThCqFJFJnJ"
      },
      "execution_count": 10,
      "outputs": []
    },
    {
      "cell_type": "code",
      "source": [
        "# E03\n",
        "\n",
        "from sympy import Rational\n",
        "\n",
        "def find_period_candidate(numerator, denominator, denominator_threshold):\n",
        "    fraction = Rational(numerator, denominator)\n",
        "    continued_fraction = fraction.continued_fraction()\n",
        "    convergents = continued_fraction.convergents()\n",
        "\n",
        "    for convergent in convergents:\n",
        "        if convergent.q < denominator_threshold:\n",
        "            candidate = convergent\n",
        "        else:\n",
        "            break\n",
        "    return (candidate.p, candidate.q)"
      ],
      "metadata": {
        "id": "Yjn4u2IuFNTq"
      },
      "execution_count": 8,
      "outputs": []
    },
    {
      "cell_type": "code",
      "source": [
        "# E04\n",
        "\n",
        "def find_period(number_to_factor, guess, n):\n",
        "    input_qubits = QuantumRegister(n, 'input')\n",
        "    output_qubits = QuantumRegister(n, 'output')\n",
        "    classical_bits = ClassicalRegister(n, 'classical')\n",
        "    qc = QuantumCircuit(input_qubits, output_qubits, classical_bits)\n",
        "\n",
        "    # Apply the exp_mod circuit\n",
        "    exp_mod(qc, guess, number_to_factor, input_qubits, output_qubits)\n",
        "\n",
        "    # Measure the qubits\n",
        "    qc.measure(output_qubits, classical_bits)\n",
        "\n",
        "    return qc\n",
        "\n",
        "    # Simulate the circuit\n",
        "    sim = AerSimulator()\n",
        "    t_qc = transpile(qc, sim)\n",
        "    qobj = assemble(t_qc)\n",
        "    result = sim.run(qobj).result()\n",
        "    counts = result.get_counts(qc)\n",
        "\n",
        "    # Execute the circuit\n",
        "    # backend = Aer.get_backend('qasm_simulator')\n",
        "    # tqc = transpile(qc, backend)\n",
        "    # qobj = assemble(tqc)\n",
        "    result = execute(qc, backend).result()\n",
        "\n",
        "    #counts = result.get_counts()\n",
        "    print(counts)"
      ],
      "metadata": {
        "id": "kPdGXIi7FRKQ"
      },
      "execution_count": 11,
      "outputs": []
    }
  ]
}