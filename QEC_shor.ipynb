{
  "nbformat": 4,
  "nbformat_minor": 0,
  "metadata": {
    "colab": {
      "provenance": [],
      "authorship_tag": "ABX9TyMFXqxnvjwbAv9EUG9GE679",
      "include_colab_link": true
    },
    "kernelspec": {
      "name": "python3",
      "display_name": "Python 3"
    },
    "language_info": {
      "name": "python"
    }
  },
  "cells": [
    {
      "cell_type": "markdown",
      "metadata": {
        "id": "view-in-github",
        "colab_type": "text"
      },
      "source": [
        "<a href=\"https://colab.research.google.com/github/Zontafor/quantum-software/blob/main/QEC_shor.ipynb\" target=\"_parent\"><img src=\"https://colab.research.google.com/assets/colab-badge.svg\" alt=\"Open In Colab\"/></a>"
      ]
    },
    {
      "cell_type": "code",
      "execution_count": null,
      "metadata": {
        "collapsed": true,
        "id": "lV_1Y13actqT"
      },
      "outputs": [],
      "source": [
        "!pip install qiskit\n",
        "!pip install qiskit-aer\n",
        "!pip install pylatexenc\n",
        "!pip install matplotlib"
      ]
    },
    {
      "cell_type": "code",
      "source": [
        "from qiskit import QuantumCircuit, QuantumRegister, ClassicalRegister\n",
        "import matplotlib.pyplot as plt\n",
        "\n",
        "# Define the Shor code circuit\n",
        "def shor_code_circuit():\n",
        "    # Create a Quantum Register with 9 qubits\n",
        "    qubits = QuantumRegister(9, 'q')\n",
        "    # Create a Classical Register with 9 bits\n",
        "    classical_bits = ClassicalRegister(9, 'c')\n",
        "    # Create a Quantum Circuit acting on the q register\n",
        "    qc = QuantumCircuit(qubits, classical_bits)\n",
        "\n",
        "    # Step 1: Apply Hadamard gates to create superposition\n",
        "    for i in range(3):\n",
        "        qc.h(qubits[i])\n",
        "\n",
        "    # Step 2: Entangle the first three qubits with the next six qubits (bit-flip protection)\n",
        "    for i in range(3):\n",
        "        qc.cx(qubits[i], qubits[i + 3])\n",
        "        qc.cx(qubits[i], qubits[i + 6])\n",
        "\n",
        "    # Step 3: Entangle for phase-flip protection\n",
        "    for i in range(3):\n",
        "        qc.h(qubits[i])\n",
        "        qc.h(qubits[i + 3])\n",
        "        qc.h(qubits[i + 6])\n",
        "\n",
        "    for i in range(3):\n",
        "        qc.cx(qubits[i], qubits[i + 3])\n",
        "        qc.cx(qubits[i + 3], qubits[i + 6])\n",
        "\n",
        "    for i in range(3):\n",
        "        qc.h(qubits[i])\n",
        "        qc.h(qubits[i + 3])\n",
        "        qc.h(qubits[i + 6])\n",
        "\n",
        "    # Step 4: Measure the qubits\n",
        "    qc.measure(qubits, classical_bits)\n",
        "\n",
        "    return qc\n"
      ],
      "metadata": {
        "id": "STR2yXVPf7Uh"
      },
      "execution_count": 10,
      "outputs": []
    },
    {
      "cell_type": "code",
      "source": [
        "# Draw the circuit using Qiskit's text drawer\n",
        "print(qc.draw(output='text'))"
      ],
      "metadata": {
        "id": "sTrGSK7Ff8yF"
      },
      "execution_count": null,
      "outputs": []
    }
  ]
}