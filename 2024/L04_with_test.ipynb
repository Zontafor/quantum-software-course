{
  "nbformat": 4,
  "nbformat_minor": 0,
  "metadata": {
    "colab": {
      "provenance": [],
      "authorship_tag": "ABX9TyMOfiuXkHoxYfYGQjRcK6c8",
      "include_colab_link": true
    },
    "kernelspec": {
      "name": "python3",
      "display_name": "Python 3"
    },
    "language_info": {
      "name": "python"
    }
  },
  "cells": [
    {
      "cell_type": "markdown",
      "metadata": {
        "id": "view-in-github",
        "colab_type": "text"
      },
      "source": [
        "<a href=\"https://colab.research.google.com/github/Zontafor/quantum-software/blob/main/L04_with_test.ipynb\" target=\"_parent\"><img src=\"https://colab.research.google.com/assets/colab-badge.svg\" alt=\"Open In Colab\"/></a>"
      ]
    },
    {
      "cell_type": "code",
      "execution_count": null,
      "metadata": {
        "id": "TDF69R5Uxjmx"
      },
      "outputs": [],
      "source": [
        "!pip install qiskit\n",
        "!pip install qiskit-aer\n",
        "\n",
        "from qiskit import QuantumCircuit, transpile, assemble\n",
        "from qiskit_aer import AerSimulator\n",
        "from qiskit.visualization import plot_histogram\n",
        "\n",
        "def set_qubit_state(qc, desired, qubit):\n",
        "    if desired == 1:  # 1 corresponds to 'One' in Q#\n",
        "        qc.x(qubit)  # Apply X gate to flip state to |1>\n",
        "\n",
        "def bell_test(count, initial):\n",
        "    num_ones = 0\n",
        "    agree = 0\n",
        "\n",
        "    for _ in range(count):\n",
        "        qc = QuantumCircuit(2, 2)\n",
        "\n",
        "        # Set initial state\n",
        "        set_qubit_state(qc, initial, 0)\n",
        "        set_qubit_state(qc, initial, 1)\n",
        "\n",
        "        # Create Bell state\n",
        "        qc.h(0)\n",
        "        qc.cx(0, 1)\n",
        "\n",
        "        # Measure both qubits\n",
        "        qc.measure(0, 0)\n",
        "        qc.measure(1, 1)\n",
        "\n",
        "        # Simulate the circuit\n",
        "        sim = AerSimulator()\n",
        "        t_qc = transpile(qc, sim)\n",
        "        qobj = assemble(t_qc)\n",
        "        result = sim.run(qobj).result()\n",
        "        counts = result.get_counts(qc)\n",
        "\n",
        "        if '11' in counts:\n",
        "            num_ones += counts['11']\n",
        "        if '00' in counts:\n",
        "            agree += counts['00']\n",
        "        if '11' in counts:\n",
        "            agree += counts['11']\n",
        "\n",
        "    return count, num_ones, agree\n",
        "\n",
        "count = 100\n",
        "initial = 0  # 0 corresponds to 'Zero' in Q#\n",
        "total, ones, agree = bell_test(count, initial)\n",
        "print(f\"Out of {total} tests, we observed {ones} ones and {agree} agreements.\")"
      ]
    },
    {
      "cell_type": "code",
      "source": [
        "import unittest\n",
        "\n",
        "class TestBellState(unittest.TestCase):\n",
        "    def test_bell_test(self):\n",
        "        count = 100\n",
        "        initial = 0  # 0 corresponds to 'Zero' in Q#\n",
        "        total, ones, agree = bell_test(count, initial)\n",
        "\n",
        "        print(f\"Out of {total} tests, we observed {ones} ones and {agree} agreements.\")\n",
        "        self.assertTrue(40 < ones < 60, f\"Observed {ones} ones\")\n",
        "        self.assertTrue(agree > 80, f\"Observed {agree} agreements\")\n",
        "\n",
        "if __name__ == '__main__':\n",
        "    unittest.main(argv=[''], verbosity=2, exit=False)\n"
      ],
      "metadata": {
        "id": "cXdyHoc4xqjL"
      },
      "execution_count": null,
      "outputs": []
    }
  ]
}
