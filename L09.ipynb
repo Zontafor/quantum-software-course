{
  "nbformat": 4,
  "nbformat_minor": 0,
  "metadata": {
    "colab": {
      "provenance": [],
      "authorship_tag": "ABX9TyMTBSPuPL30Ayz4/5YrMxBC",
      "include_colab_link": true
    },
    "kernelspec": {
      "name": "python3",
      "display_name": "Python 3"
    },
    "language_info": {
      "name": "python"
    }
  },
  "cells": [
    {
      "cell_type": "markdown",
      "metadata": {
        "id": "view-in-github",
        "colab_type": "text"
      },
      "source": [
        "<a href=\"https://colab.research.google.com/github/Zontafor/quantum-software/blob/main/L09.ipynb\" target=\"_parent\"><img src=\"https://colab.research.google.com/assets/colab-badge.svg\" alt=\"Open In Colab\"/></a>"
      ]
    },
    {
      "cell_type": "code",
      "execution_count": null,
      "metadata": {
        "id": "gg3VpwRA0chk"
      },
      "outputs": [],
      "source": [
        "# Quantum Software Development\n",
        "# Lab 9: Shor's Factorization Algorithm\n",
        "# Copyright 2024 The MITRE Corporation. All Rights Reserved.\n",
        "\n",
        "# Note: Use little endian ordering when storing and retrieving integers from\n",
        "# qubit registers in this lab."
      ]
    },
    {
      "cell_type": "code",
      "source": [
        "!pip install qiskit\n",
        "!pip install qiskit-aer\n",
        "!pip install pylatexenc\n",
        "\n",
        "from qiskit import QuantumCircuit, QuantumRegister, ClassicalRegister, transpile, assemble\n",
        "from qiskit_aer import AerSimulator\n",
        "from qiskit.visualization import plot_histogram"
      ],
      "metadata": {
        "id": "dZaDWfWCE6TY"
      },
      "execution_count": null,
      "outputs": []
    },
    {
      "cell_type": "code",
      "source": [
        "# E01\n",
        "\n",
        "def modular_multiply_by_constant(circ, modulus, c, y):\n",
        "    n = len(y)\n",
        "    qs = QuantumRegister(n)\n",
        "    circ.add_register(qs)\n",
        "\n",
        "    for idx in range(n):\n",
        "        shifted_c = (c << idx) % modulus\n",
        "        if shifted_c != 0:\n",
        "            circ.mcx([y[idx]], qs[idx])\n",
        "\n",
        "    for idx in range(n):\n",
        "        circ.swap(y[idx], qs[idx])\n",
        "\n",
        "    inv_c = pow(c, -1, modulus)\n",
        "    for idx in range(n):\n",
        "        shifted_c = (inv_c << idx) % modulus\n",
        "        if shifted_c != 0:\n",
        "            circ.mcx([y[idx]], qs[(idx + shifted_c) % n])\n",
        "\n",
        "# quantum modular exponentiation\n",
        "\n",
        "def exp_mod(a, b, input_qubits, output_qubits):\n",
        "    qc = QuantumCircuit(input_qubits, output_qubits)\n",
        "    classical_exp_mod = pow(a, int(''.join(str(x) for x in input_qubits)), b)\n",
        "    modular_multiply_by_constant(qc, b, classical_exp_mod, output_qubits)\n",
        "    return qc"
      ],
      "metadata": {
        "id": "J4ziDo-PEsB0"
      },
      "execution_count": null,
      "outputs": []
    },
    {
      "cell_type": "code",
      "source": [
        "# E02\n",
        "\n",
        "def find_approx_period(number_to_factor, guess, n):\n",
        "    input_qubits = QuantumRegister(n, 'input')\n",
        "    output_qubits = QuantumRegister(n, 'output')\n",
        "    classical_bits = ClassicalRegister(n, 'classical')\n",
        "    qc = QuantumCircuit(input_qubits, output_qubits, classical_bits)\n",
        "\n",
        "    # Apply the exp_mod circuit\n",
        "    exp_mod(qc, guess, number_to_factor, input_qubits, output_qubits)\n",
        "\n",
        "    # Measure the qubits\n",
        "    qc.measure(output_qubits, classical_bits)\n",
        "\n",
        "    return qc\n",
        "\n",
        "    # Simulate the circuit\n",
        "    sim = AerSimulator()\n",
        "    t_qc = transpile(qc, sim)\n",
        "    qobj = assemble(t_qc)\n",
        "    result = sim.run(qobj).result()\n",
        "    counts = result.get_counts(qc)\n",
        "\n",
        "    # Execute the circuit\n",
        "    # backend = Aer.get_backend('qasm_simulator')\n",
        "    # tqc = transpile(qc, backend)\n",
        "    # qobj = assemble(tqc)\n",
        "    result = execute(qc, backend).result()\n",
        "\n",
        "    #counts = result.get_counts()\n",
        "    print(counts)"
      ],
      "metadata": {
        "id": "gnThCqFJFJnJ"
      },
      "execution_count": 1,
      "outputs": []
    },
    {
      "cell_type": "code",
      "source": [
        "# E02\n",
        "\n",
        "def inverse_qft(qc, qubits):\n",
        "    qc.append(QFT(len(qubits), inverse=True).to_instruction(), qubits)\n",
        "\n",
        "def find_approx_period(number_to_factor, guess, n):\n",
        "    input_qubits = QuantumRegister(n, 'input')\n",
        "    output_qubits = QuantumRegister(n, 'output')\n",
        "    classical_bits = ClassicalRegister(n, 'classical')\n",
        "    qc = QuantumCircuit(input_qubits, output_qubits, classical_bits)\n",
        "\n",
        "    # Apply Hadamard gates to input qubits\n",
        "    qc.h(input_qubits)\n",
        "\n",
        "    # Apply the exp_mod circuit (modular exponentiation)\n",
        "    exp_mod(qc, guess, number_to_factor, input_qubits, output_qubits)\n",
        "\n",
        "    # Apply the inverse QFT to input qubits\n",
        "    inverse_qft(qc, input_qubits)\n",
        "\n",
        "    # Measure the input qubits\n",
        "    qc.measure(input_qubits, classical_bits)\n",
        "\n",
        "    return qc\n",
        "\n",
        "    # Simulate the circuit\n",
        "    sim = AerSimulator()\n",
        "    t_qc = transpile(qc, sim)\n",
        "    qobj = assemble(t_qc)\n",
        "    result = sim.run(qobj).result()\n",
        "    counts = result.get_counts(qc)\n",
        "\n",
        "    # Execute the circuit\n",
        "    # backend = Aer.get_backend('qasm_simulator')\n",
        "    # tqc = transpile(qc, backend)\n",
        "    # qobj = assemble(tqc)\n",
        "    result = execute(qc, backend).result()\n",
        "\n",
        "    #counts = result.get_counts()\n",
        "    print(counts)"
      ],
      "metadata": {
        "id": "bGTH6V6z-xLj"
      },
      "execution_count": 4,
      "outputs": []
    },
    {
      "cell_type": "code",
      "source": [
        "# E03\n",
        "\n",
        "from sympy import Rational\n",
        "\n",
        "def find_period_candidate(numerator, denominator, denominator_threshold):\n",
        "    fraction = Rational(numerator, denominator)\n",
        "    continued_fraction = fraction.continued_fraction()\n",
        "    convergents = continued_fraction.convergents()\n",
        "\n",
        "    for convergent in convergents:\n",
        "        if convergent.q < denominator_threshold:\n",
        "            candidate = convergent\n",
        "        else:\n",
        "            break\n",
        "    return (candidate.p, candidate.q)"
      ],
      "metadata": {
        "id": "Yjn4u2IuFNTq"
      },
      "execution_count": 2,
      "outputs": []
    },
    {
      "cell_type": "code",
      "source": [
        "# E04\n",
        "\n",
        "def find_period(number_to_factor, guess, n):\n",
        "    input_qubits = QuantumRegister(n, 'input')\n",
        "    output_qubits = QuantumRegister(n, 'output')\n",
        "    classical_bits = ClassicalRegister(n, 'classical')\n",
        "    qc = QuantumCircuit(input_qubits, output_qubits, classical_bits)\n",
        "\n",
        "    # Apply the exp_mod circuit\n",
        "    exp_mod(qc, guess, number_to_factor, input_qubits, output_qubits)\n",
        "\n",
        "    # Measure the qubits\n",
        "    qc.measure(output_qubits, classical_bits)\n",
        "\n",
        "    return qc\n",
        "\n",
        "    # Simulate the circuit\n",
        "    sim = AerSimulator()\n",
        "    t_qc = transpile(qc, sim)\n",
        "    qobj = assemble(t_qc)\n",
        "    result = sim.run(qobj).result()\n",
        "    counts = result.get_counts(qc)\n",
        "\n",
        "    # Execute the circuit\n",
        "    # backend = Aer.get_backend('qasm_simulator')\n",
        "    # tqc = transpile(qc, backend)\n",
        "    # qobj = assemble(tqc)\n",
        "    result = execute(qc, backend).result()\n",
        "\n",
        "    #counts = result.get_counts()\n",
        "    print(counts)"
      ],
      "metadata": {
        "id": "kPdGXIi7FRKQ"
      },
      "execution_count": 3,
      "outputs": []
    }
  ]
}