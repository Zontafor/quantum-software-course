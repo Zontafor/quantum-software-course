{
  "nbformat": 4,
  "nbformat_minor": 0,
  "metadata": {
    "colab": {
      "provenance": [],
      "authorship_tag": "ABX9TyPluZBcDMxK87hiBBNjr8sY",
      "include_colab_link": true
    },
    "kernelspec": {
      "name": "python3",
      "display_name": "Python 3"
    },
    "language_info": {
      "name": "python"
    }
  },
  "cells": [
    {
      "cell_type": "markdown",
      "metadata": {
        "id": "view-in-github",
        "colab_type": "text"
      },
      "source": [
        "<a href=\"https://colab.research.google.com/github/Zontafor/quantum-software/blob/main/teleporting_teapots_final_project_debugging.ipynb\" target=\"_parent\"><img src=\"https://colab.research.google.com/assets/colab-badge.svg\" alt=\"Open In Colab\"/></a>"
      ]
    },
    {
      "cell_type": "code",
      "execution_count": 60,
      "metadata": {
        "colab": {
          "base_uri": "https://localhost:8080/"
        },
        "collapsed": true,
        "id": "O6RGHZqRrIuD",
        "outputId": "1b2dd9e2-877c-4f2a-fcd8-735165dadee0"
      },
      "outputs": [
        {
          "output_type": "stream",
          "name": "stdout",
          "text": [
            "Requirement already satisfied: qiskit in /usr/local/lib/python3.10/dist-packages (1.1.1)\n",
            "Requirement already satisfied: rustworkx>=0.14.0 in /usr/local/lib/python3.10/dist-packages (from qiskit) (0.15.1)\n",
            "Requirement already satisfied: numpy<3,>=1.17 in /usr/local/lib/python3.10/dist-packages (from qiskit) (1.25.2)\n",
            "Requirement already satisfied: scipy>=1.5 in /usr/local/lib/python3.10/dist-packages (from qiskit) (1.11.4)\n",
            "Requirement already satisfied: sympy>=1.3 in /usr/local/lib/python3.10/dist-packages (from qiskit) (1.13.1)\n",
            "Requirement already satisfied: dill>=0.3 in /usr/local/lib/python3.10/dist-packages (from qiskit) (0.3.8)\n",
            "Requirement already satisfied: python-dateutil>=2.8.0 in /usr/local/lib/python3.10/dist-packages (from qiskit) (2.8.2)\n",
            "Requirement already satisfied: stevedore>=3.0.0 in /usr/local/lib/python3.10/dist-packages (from qiskit) (5.2.0)\n",
            "Requirement already satisfied: typing-extensions in /usr/local/lib/python3.10/dist-packages (from qiskit) (4.12.2)\n",
            "Requirement already satisfied: symengine>=0.11 in /usr/local/lib/python3.10/dist-packages (from qiskit) (0.11.0)\n",
            "Requirement already satisfied: six>=1.5 in /usr/local/lib/python3.10/dist-packages (from python-dateutil>=2.8.0->qiskit) (1.16.0)\n",
            "Requirement already satisfied: pbr!=2.1.0,>=2.0.0 in /usr/local/lib/python3.10/dist-packages (from stevedore>=3.0.0->qiskit) (6.0.0)\n",
            "Requirement already satisfied: mpmath<1.4,>=1.1.0 in /usr/local/lib/python3.10/dist-packages (from sympy>=1.3->qiskit) (1.3.0)\n",
            "Requirement already satisfied: qiskit_nature in /usr/local/lib/python3.10/dist-packages (0.7.2)\n",
            "Requirement already satisfied: qiskit>=0.44 in /usr/local/lib/python3.10/dist-packages (from qiskit_nature) (1.1.1)\n",
            "Requirement already satisfied: qiskit-algorithms>=0.2.1 in /usr/local/lib/python3.10/dist-packages (from qiskit_nature) (0.3.0)\n",
            "Requirement already satisfied: scipy>=1.4 in /usr/local/lib/python3.10/dist-packages (from qiskit_nature) (1.11.4)\n",
            "Requirement already satisfied: numpy>=1.17 in /usr/local/lib/python3.10/dist-packages (from qiskit_nature) (1.25.2)\n",
            "Requirement already satisfied: psutil>=5 in /usr/local/lib/python3.10/dist-packages (from qiskit_nature) (5.9.5)\n",
            "Requirement already satisfied: setuptools>=40.1.0 in /usr/local/lib/python3.10/dist-packages (from qiskit_nature) (71.0.4)\n",
            "Requirement already satisfied: typing-extensions in /usr/local/lib/python3.10/dist-packages (from qiskit_nature) (4.12.2)\n",
            "Requirement already satisfied: h5py in /usr/local/lib/python3.10/dist-packages (from qiskit_nature) (3.9.0)\n",
            "Requirement already satisfied: rustworkx>=0.12 in /usr/local/lib/python3.10/dist-packages (from qiskit_nature) (0.15.1)\n",
            "Requirement already satisfied: sympy>=1.3 in /usr/local/lib/python3.10/dist-packages (from qiskit>=0.44->qiskit_nature) (1.13.1)\n",
            "Requirement already satisfied: dill>=0.3 in /usr/local/lib/python3.10/dist-packages (from qiskit>=0.44->qiskit_nature) (0.3.8)\n",
            "Requirement already satisfied: python-dateutil>=2.8.0 in /usr/local/lib/python3.10/dist-packages (from qiskit>=0.44->qiskit_nature) (2.8.2)\n",
            "Requirement already satisfied: stevedore>=3.0.0 in /usr/local/lib/python3.10/dist-packages (from qiskit>=0.44->qiskit_nature) (5.2.0)\n",
            "Requirement already satisfied: symengine>=0.11 in /usr/local/lib/python3.10/dist-packages (from qiskit>=0.44->qiskit_nature) (0.11.0)\n",
            "Requirement already satisfied: six>=1.5 in /usr/local/lib/python3.10/dist-packages (from python-dateutil>=2.8.0->qiskit>=0.44->qiskit_nature) (1.16.0)\n",
            "Requirement already satisfied: pbr!=2.1.0,>=2.0.0 in /usr/local/lib/python3.10/dist-packages (from stevedore>=3.0.0->qiskit>=0.44->qiskit_nature) (6.0.0)\n",
            "Requirement already satisfied: mpmath<1.4,>=1.1.0 in /usr/local/lib/python3.10/dist-packages (from sympy>=1.3->qiskit>=0.44->qiskit_nature) (1.3.0)\n",
            "Requirement already satisfied: matplotlib in /usr/local/lib/python3.10/dist-packages (3.7.1)\n",
            "Requirement already satisfied: contourpy>=1.0.1 in /usr/local/lib/python3.10/dist-packages (from matplotlib) (1.2.1)\n",
            "Requirement already satisfied: cycler>=0.10 in /usr/local/lib/python3.10/dist-packages (from matplotlib) (0.12.1)\n",
            "Requirement already satisfied: fonttools>=4.22.0 in /usr/local/lib/python3.10/dist-packages (from matplotlib) (4.53.1)\n",
            "Requirement already satisfied: kiwisolver>=1.0.1 in /usr/local/lib/python3.10/dist-packages (from matplotlib) (1.4.5)\n",
            "Requirement already satisfied: numpy>=1.20 in /usr/local/lib/python3.10/dist-packages (from matplotlib) (1.25.2)\n",
            "Requirement already satisfied: packaging>=20.0 in /usr/local/lib/python3.10/dist-packages (from matplotlib) (24.1)\n",
            "Requirement already satisfied: pillow>=6.2.0 in /usr/local/lib/python3.10/dist-packages (from matplotlib) (9.4.0)\n",
            "Requirement already satisfied: pyparsing>=2.3.1 in /usr/local/lib/python3.10/dist-packages (from matplotlib) (3.1.2)\n",
            "Requirement already satisfied: python-dateutil>=2.7 in /usr/local/lib/python3.10/dist-packages (from matplotlib) (2.8.2)\n",
            "Requirement already satisfied: six>=1.5 in /usr/local/lib/python3.10/dist-packages (from python-dateutil>=2.7->matplotlib) (1.16.0)\n",
            "Requirement already satisfied: qiskit-aer in /usr/local/lib/python3.10/dist-packages (0.14.2)\n",
            "Requirement already satisfied: qiskit>=0.45.2 in /usr/local/lib/python3.10/dist-packages (from qiskit-aer) (1.1.1)\n",
            "Requirement already satisfied: numpy>=1.16.3 in /usr/local/lib/python3.10/dist-packages (from qiskit-aer) (1.25.2)\n",
            "Requirement already satisfied: scipy>=1.0 in /usr/local/lib/python3.10/dist-packages (from qiskit-aer) (1.11.4)\n",
            "Requirement already satisfied: psutil>=5 in /usr/local/lib/python3.10/dist-packages (from qiskit-aer) (5.9.5)\n",
            "Requirement already satisfied: rustworkx>=0.14.0 in /usr/local/lib/python3.10/dist-packages (from qiskit>=0.45.2->qiskit-aer) (0.15.1)\n",
            "Requirement already satisfied: sympy>=1.3 in /usr/local/lib/python3.10/dist-packages (from qiskit>=0.45.2->qiskit-aer) (1.13.1)\n",
            "Requirement already satisfied: dill>=0.3 in /usr/local/lib/python3.10/dist-packages (from qiskit>=0.45.2->qiskit-aer) (0.3.8)\n",
            "Requirement already satisfied: python-dateutil>=2.8.0 in /usr/local/lib/python3.10/dist-packages (from qiskit>=0.45.2->qiskit-aer) (2.8.2)\n",
            "Requirement already satisfied: stevedore>=3.0.0 in /usr/local/lib/python3.10/dist-packages (from qiskit>=0.45.2->qiskit-aer) (5.2.0)\n",
            "Requirement already satisfied: typing-extensions in /usr/local/lib/python3.10/dist-packages (from qiskit>=0.45.2->qiskit-aer) (4.12.2)\n",
            "Requirement already satisfied: symengine>=0.11 in /usr/local/lib/python3.10/dist-packages (from qiskit>=0.45.2->qiskit-aer) (0.11.0)\n",
            "Requirement already satisfied: six>=1.5 in /usr/local/lib/python3.10/dist-packages (from python-dateutil>=2.8.0->qiskit>=0.45.2->qiskit-aer) (1.16.0)\n",
            "Requirement already satisfied: pbr!=2.1.0,>=2.0.0 in /usr/local/lib/python3.10/dist-packages (from stevedore>=3.0.0->qiskit>=0.45.2->qiskit-aer) (6.0.0)\n",
            "Requirement already satisfied: mpmath<1.4,>=1.1.0 in /usr/local/lib/python3.10/dist-packages (from sympy>=1.3->qiskit>=0.45.2->qiskit-aer) (1.3.0)\n",
            "Requirement already satisfied: pylatexenc in /usr/local/lib/python3.10/dist-packages (2.10)\n",
            "Requirement already satisfied: pyscf in /usr/local/lib/python3.10/dist-packages (2.6.2)\n",
            "Requirement already satisfied: numpy!=1.16,!=1.17,>=1.13 in /usr/local/lib/python3.10/dist-packages (from pyscf) (1.25.2)\n",
            "Requirement already satisfied: scipy!=1.5.0,!=1.5.1 in /usr/local/lib/python3.10/dist-packages (from pyscf) (1.11.4)\n",
            "Requirement already satisfied: h5py>=2.7 in /usr/local/lib/python3.10/dist-packages (from pyscf) (3.9.0)\n",
            "Requirement already satisfied: setuptools in /usr/local/lib/python3.10/dist-packages (from pyscf) (71.0.4)\n",
            "Requirement already satisfied: pyscf-forge in /usr/local/lib/python3.10/dist-packages (1.0.0)\n",
            "Requirement already satisfied: pyscf in /usr/local/lib/python3.10/dist-packages (from pyscf-forge) (2.6.2)\n",
            "Requirement already satisfied: numpy in /usr/local/lib/python3.10/dist-packages (from pyscf-forge) (1.25.2)\n",
            "Requirement already satisfied: scipy!=1.5.0,!=1.5.1 in /usr/local/lib/python3.10/dist-packages (from pyscf->pyscf-forge) (1.11.4)\n",
            "Requirement already satisfied: h5py>=2.7 in /usr/local/lib/python3.10/dist-packages (from pyscf->pyscf-forge) (3.9.0)\n",
            "Requirement already satisfied: setuptools in /usr/local/lib/python3.10/dist-packages (from pyscf->pyscf-forge) (71.0.4)\n",
            "Requirement already satisfied: pyscf[all] in /usr/local/lib/python3.10/dist-packages (2.6.2)\n",
            "Requirement already satisfied: numpy!=1.16,!=1.17,>=1.13 in /usr/local/lib/python3.10/dist-packages (from pyscf[all]) (1.25.2)\n",
            "Requirement already satisfied: scipy!=1.5.0,!=1.5.1 in /usr/local/lib/python3.10/dist-packages (from pyscf[all]) (1.11.4)\n",
            "Requirement already satisfied: h5py>=2.7 in /usr/local/lib/python3.10/dist-packages (from pyscf[all]) (3.9.0)\n",
            "Requirement already satisfied: setuptools in /usr/local/lib/python3.10/dist-packages (from pyscf[all]) (71.0.4)\n",
            "Requirement already satisfied: pyqmc in /usr/local/lib/python3.10/dist-packages (from pyscf[all]) (0.6.0)\n",
            "Requirement already satisfied: pyscf-forge in /usr/local/lib/python3.10/dist-packages (from pyscf[all]) (1.0.0)\n",
            "Requirement already satisfied: pyscf-semiempirical in /usr/local/lib/python3.10/dist-packages (from pyscf[all]) (0.1.1)\n",
            "Requirement already satisfied: pyscf-dispersion in /usr/local/lib/python3.10/dist-packages (from pyscf[all]) (1.0.2)\n",
            "Requirement already satisfied: pyberny>=0.6.2 in /usr/local/lib/python3.10/dist-packages (from pyscf[all]) (0.6.3)\n",
            "Requirement already satisfied: geometric>=0.9.7.2 in /usr/local/lib/python3.10/dist-packages (from pyscf[all]) (1.0.2)\n",
            "Requirement already satisfied: pyscf-qsdopt in /usr/local/lib/python3.10/dist-packages (from pyscf[all]) (0.1.0)\n",
            "Requirement already satisfied: basis-set-exchange in /usr/local/lib/python3.10/dist-packages (from pyscf[all]) (0.10)\n",
            "Requirement already satisfied: cppe in /usr/local/lib/python3.10/dist-packages (from pyscf[all]) (0.3.1)\n",
            "Requirement already satisfied: pyscf-doci in /usr/local/lib/python3.10/dist-packages (from pyscf[all]) (0.1.0)\n",
            "Requirement already satisfied: pyscf-properties in /usr/local/lib/python3.10/dist-packages (from pyscf[all]) (0.1.0)\n",
            "Requirement already satisfied: networkx in /usr/local/lib/python3.10/dist-packages (from geometric>=0.9.7.2->pyscf[all]) (3.3)\n",
            "Requirement already satisfied: six in /usr/local/lib/python3.10/dist-packages (from geometric>=0.9.7.2->pyscf[all]) (1.16.0)\n",
            "Requirement already satisfied: jsonschema in /usr/local/lib/python3.10/dist-packages (from basis-set-exchange->pyscf[all]) (4.19.2)\n",
            "Requirement already satisfied: argcomplete in /usr/local/lib/python3.10/dist-packages (from basis-set-exchange->pyscf[all]) (3.4.0)\n",
            "Requirement already satisfied: regex in /usr/local/lib/python3.10/dist-packages (from basis-set-exchange->pyscf[all]) (2024.5.15)\n",
            "Requirement already satisfied: unidecode in /usr/local/lib/python3.10/dist-packages (from basis-set-exchange->pyscf[all]) (1.3.8)\n",
            "Requirement already satisfied: pybind11>=2.2 in /usr/local/lib/python3.10/dist-packages (from cppe->pyscf[all]) (2.13.1)\n",
            "Requirement already satisfied: pandas in /usr/local/lib/python3.10/dist-packages (from pyqmc->pyscf[all]) (2.0.3)\n",
            "Requirement already satisfied: attrs>=22.2.0 in /usr/local/lib/python3.10/dist-packages (from jsonschema->basis-set-exchange->pyscf[all]) (23.2.0)\n",
            "Requirement already satisfied: jsonschema-specifications>=2023.03.6 in /usr/local/lib/python3.10/dist-packages (from jsonschema->basis-set-exchange->pyscf[all]) (2023.12.1)\n",
            "Requirement already satisfied: referencing>=0.28.4 in /usr/local/lib/python3.10/dist-packages (from jsonschema->basis-set-exchange->pyscf[all]) (0.35.1)\n",
            "Requirement already satisfied: rpds-py>=0.7.1 in /usr/local/lib/python3.10/dist-packages (from jsonschema->basis-set-exchange->pyscf[all]) (0.19.0)\n",
            "Requirement already satisfied: python-dateutil>=2.8.2 in /usr/local/lib/python3.10/dist-packages (from pandas->pyqmc->pyscf[all]) (2.8.2)\n",
            "Requirement already satisfied: pytz>=2020.1 in /usr/local/lib/python3.10/dist-packages (from pandas->pyqmc->pyscf[all]) (2023.4)\n",
            "Requirement already satisfied: tzdata>=2022.1 in /usr/local/lib/python3.10/dist-packages (from pandas->pyqmc->pyscf[all]) (2024.1)\n"
          ]
        }
      ],
      "source": [
        "!pip install qiskit\n",
        "!pip install qiskit_nature\n",
        "!pip install matplotlib\n",
        "!pip install qiskit-aer\n",
        "!pip install pylatexenc\n",
        "!pip install pyscf\n",
        "!pip install pyscf-forge\n",
        "!pip install pyscf[all]\n",
        "\n",
        "from qiskit import QuantumCircuit, QuantumRegister, ClassicalRegister, transpile, assemble\n",
        "from qiskit_aer import AerSimulator\n",
        "from qiskit import transpile, assemble\n",
        "from qiskit.visualization import plot_histogram\n",
        "from qiskit_nature.second_q.circuit.library import HartreeFock\n",
        "from qiskit_nature.second_q.mappers import BravyiKitaevMapper\n",
        "from qiskit_nature.second_q.operators import FermionicOp\n",
        "from qiskit_nature.second_q.problems import ElectronicStructureProblem\n",
        "from qiskit_nature.second_q.hamiltonians import ElectronicEnergy\n",
        "from qiskit_nature.second_q.transformers import FreezeCoreTransformer, BasisTransformer\n",
        "# from qiskit_nature.second_q.bases import ElectronicBasis\n",
        "import matplotlib.pyplot as plt\n",
        "import matplotlib\n",
        "from pyscf import gto, scf, ao2mo\n",
        "\n",
        "# Set matplotlib backend\n",
        "matplotlib.use(\"Agg\")"
      ]
    },
    {
      "cell_type": "code",
      "source": [
        "# Define bond length\n",
        "bond_length = 0.735\n",
        "\n",
        "# Create the H2 molecule using PySCF\n",
        "molecule = gto.M(\n",
        "    atom=f'H 0 0 0; H 0 0 {bond_length}',\n",
        "    basis='sto3g',\n",
        "    unit='Angstrom'\n",
        ")\n",
        "\n",
        "# Perform Hartree-Fock calculation\n",
        "mf = scf.RHF(mol)\n",
        "mf.kernel()\n",
        "\n",
        "# Print orbital energies\n",
        "print(\"Orbital energies: \", mf.mo_energy)\n",
        "\n",
        "# Get the integrals in the molecular orbital basis\n",
        "h1_mo = mf.mo_coeff.T @ mf.get_hcore() @ mf.mo_coeff\n",
        "eri_mo = ao2mo.restore(1, ao2mo.kernel(mol, mf.mo_coeff), mol.nao_nr())\n",
        "\n",
        "# Extract number of particles and spatial orbitals\n",
        "num_particles = (mol.nelectron // 2, mol.nelectron // 2)\n",
        "num_spatial_orbitals = mf.mo_coeff.shape[1]\n",
        "\n",
        "# Print properties\n",
        "print(\"Number of particles (alpha spin, beta spin): \", num_particles)\n",
        "print(\"Number of spatial orbitals: \", num_spatial_orbitals)\n",
        "\n",
        "# Identify and remove anti-bonding orbitals\n",
        "# For H2, we have only bonding and anti-bonding orbitals, so we remove the higher energy orbital\n",
        "occupied_orbitals = slice(0, num_particles[0])\n",
        "h1_mo_reduced = h1_mo[occupied_orbitals, :][:, occupied_orbitals]\n",
        "eri_mo_reduced = eri_mo[occupied_orbitals, :, :, :][:, occupied_orbitals, :, :][:, :, occupied_orbitals, :][:, :, :, occupied_orbitals]\n",
        "\n",
        "# Create the ElectronicEnergy object with reduced integrals\n",
        "electronic_energy_reduced = ElectronicEnergy.from_raw_integrals(h1_mo_reduced, eri_mo_reduced)\n",
        "\n",
        "# Create the electronic structure problem\n",
        "es_problem_reduced = ElectronicStructureProblem(electronic_energy_reduced)\n",
        "\n",
        "# Check the basis\n",
        "print(f\"Basis of the problem: {es_problem_reduced.basis}\")"
      ],
      "metadata": {
        "colab": {
          "base_uri": "https://localhost:8080/"
        },
        "id": "wYHpGePErWO6",
        "outputId": "e56cec82-476c-4039-87e0-3b313272a0c7"
      },
      "execution_count": 78,
      "outputs": [
        {
          "output_type": "stream",
          "name": "stdout",
          "text": [
            "converged SCF energy = -1.116998996754\n",
            "Orbital energies:  [-0.58062892  0.67633625]\n",
            "Number of particles (alpha spin, beta spin):  (1, 1)\n",
            "Number of spatial orbitals:  2\n",
            "Basis of the problem: None\n"
          ]
        }
      ]
    },
    {
      "cell_type": "code",
      "source": [
        "# Map the Hamiltonian using Bravyi-Kitaev Mapper\n",
        "mapper = BravyiKitaevMapper()\n",
        "qubit_hamiltonian = mapper.map(es_problem.second_q_ops()[0])\n",
        "\n",
        "# Create Hartree-Fock prepared state\n",
        "prepared_state = HartreeFock(num_spatial_orbitals, num_particles, mapper)\n",
        "\n",
        "# Create Quantum Circuit\n",
        "q = QuantumRegister(prepared_state.num_qubits, 'q')\n",
        "c = ClassicalRegister(prepared_state.num_qubits, 'c')\n",
        "circuit = QuantumCircuit(q, c)\n",
        "\n",
        "# Add the Hartree-Fock circuit\n",
        "circuit.compose(prepared_state, inplace=True)\n",
        "\n",
        "# Add measurements\n",
        "circuit.measure(q, c)\n",
        "\n",
        "# Draw and show the circuit\n",
        "#circuit.draw(output='mpl')\n",
        "# plt.show()\n",
        "# plt.savefig('hartree_fock_circuit.jpg')\n",
        "\n",
        "# Simulate the circuit\n",
        "sim = AerSimulator()\n",
        "t_circuit = transpile(circuit, sim)\n",
        "qobj = assemble(t_circuit)\n",
        "result = sim.run(qobj).result()\n",
        "counts = result.get_counts(t_circuit)\n",
        "\n",
        "# Print the prepared state\n",
        "print(prepared_state)\n",
        "\n",
        "# Print the molecule and properties\n",
        "print(\"Number of particles (alpha spin, beta spin): \", num_particles)\n",
        "print(\"Number of spatial orbitals: \", num_spatial_orbitals)\n",
        "\n",
        "# Print the result of the simulation\n",
        "print(\"Simulation result (counts):\", counts)"
      ],
      "metadata": {
        "colab": {
          "base_uri": "https://localhost:8080/"
        },
        "id": "WQwn4a8qrYlk",
        "outputId": "b66d33de-1856-4e14-8385-d9194abb44c3"
      },
      "execution_count": 83,
      "outputs": [
        {
          "output_type": "stream",
          "name": "stdout",
          "text": [
            "     ┌───┐\n",
            "q_0: ┤ X ├\n",
            "     ├───┤\n",
            "q_1: ┤ X ├\n",
            "     ├───┤\n",
            "q_2: ┤ X ├\n",
            "     └───┘\n",
            "q_3: ─────\n",
            "          \n",
            "Number of particles (alpha spin, beta spin):  (1, 1)\n",
            "Number of spatial orbitals:  2\n",
            "Simulation result (counts): {'0111': 1024}\n"
          ]
        },
        {
          "output_type": "stream",
          "name": "stderr",
          "text": [
            "<ipython-input-83-b2d30a4dd46e>:28: DeprecationWarning: Using a qobj for run() is deprecated as of qiskit-aer 0.14 and will be removed no sooner than 3 months from that release date. Transpiled circuits should now be passed directly using `backend.run(circuits, **run_options).\n",
            "  result = sim.run(qobj).result()\n"
          ]
        }
      ]
    }
  ]
}